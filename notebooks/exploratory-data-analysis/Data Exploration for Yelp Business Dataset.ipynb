{
 "cells": [
  {
   "cell_type": "markdown",
   "metadata": {},
   "source": [
    "# Data Exploration for Yelp Business Dataset\n",
    "\n",
    "This is a notebook that explores the sample Yelp dataset provided by Kaggle (https://www.kaggle.com/yelp-dataset/yelp-dataset).\n",
    " \n",
    " \n",
    "This covers user data that maps to users compliments, date of joining and review metadata among other things."
   ]
  },
  {
   "cell_type": "markdown",
   "metadata": {},
   "source": [
    "### Imports and Parameters"
   ]
  },
  {
   "cell_type": "code",
   "execution_count": 2,
   "metadata": {
    "scrolled": false
   },
   "outputs": [
    {
     "name": "stdout",
     "output_type": "stream",
     "text": [
      "Requirement already satisfied: findspark in /Users/ana/opt/miniconda3/lib/python3.8/site-packages (1.4.2)\n",
      "Requirement already satisfied: py4j in /Users/ana/opt/miniconda3/lib/python3.8/site-packages (0.10.9.1)\n",
      "Requirement already satisfied: ipywidgets in /Users/ana/opt/miniconda3/lib/python3.8/site-packages (7.6.3)\n",
      "Requirement already satisfied: matplotlib in /Users/ana/opt/miniconda3/lib/python3.8/site-packages (3.3.4)\n",
      "Requirement already satisfied: seaborn in /Users/ana/opt/miniconda3/lib/python3.8/site-packages (0.11.1)\n",
      "Requirement already satisfied: ipython>=4.0.0; python_version >= \"3.3\" in /Users/ana/opt/miniconda3/lib/python3.8/site-packages (from ipywidgets) (7.19.0)\n",
      "Requirement already satisfied: widgetsnbextension~=3.5.0 in /Users/ana/opt/miniconda3/lib/python3.8/site-packages (from ipywidgets) (3.5.1)\n",
      "Requirement already satisfied: jupyterlab-widgets>=1.0.0; python_version >= \"3.6\" in /Users/ana/opt/miniconda3/lib/python3.8/site-packages (from ipywidgets) (1.0.0)\n",
      "Requirement already satisfied: nbformat>=4.2.0 in /Users/ana/opt/miniconda3/lib/python3.8/site-packages (from ipywidgets) (5.1.2)\n",
      "Requirement already satisfied: ipykernel>=4.5.1 in /Users/ana/opt/miniconda3/lib/python3.8/site-packages (from ipywidgets) (5.4.3)\n",
      "Requirement already satisfied: traitlets>=4.3.1 in /Users/ana/opt/miniconda3/lib/python3.8/site-packages (from ipywidgets) (5.0.5)\n",
      "Requirement already satisfied: python-dateutil>=2.1 in /Users/ana/opt/miniconda3/lib/python3.8/site-packages (from matplotlib) (2.8.1)\n",
      "Requirement already satisfied: kiwisolver>=1.0.1 in /Users/ana/opt/miniconda3/lib/python3.8/site-packages (from matplotlib) (1.3.1)\n",
      "Requirement already satisfied: numpy>=1.15 in /Users/ana/opt/miniconda3/lib/python3.8/site-packages (from matplotlib) (1.20.0)\n",
      "Requirement already satisfied: pillow>=6.2.0 in /Users/ana/opt/miniconda3/lib/python3.8/site-packages (from matplotlib) (8.1.0)\n",
      "Requirement already satisfied: pyparsing!=2.0.4,!=2.1.2,!=2.1.6,>=2.0.3 in /Users/ana/opt/miniconda3/lib/python3.8/site-packages (from matplotlib) (2.4.7)\n",
      "Requirement already satisfied: cycler>=0.10 in /Users/ana/opt/miniconda3/lib/python3.8/site-packages (from matplotlib) (0.10.0)\n",
      "Requirement already satisfied: pandas>=0.23 in /Users/ana/opt/miniconda3/lib/python3.8/site-packages (from seaborn) (1.2.1)\n",
      "Requirement already satisfied: scipy>=1.0 in /Users/ana/opt/miniconda3/lib/python3.8/site-packages (from seaborn) (1.6.0)\n",
      "Requirement already satisfied: pygments in /Users/ana/opt/miniconda3/lib/python3.8/site-packages (from ipython>=4.0.0; python_version >= \"3.3\"->ipywidgets) (2.7.4)\n",
      "Requirement already satisfied: decorator in /Users/ana/opt/miniconda3/lib/python3.8/site-packages (from ipython>=4.0.0; python_version >= \"3.3\"->ipywidgets) (4.4.2)\n",
      "Requirement already satisfied: pickleshare in /Users/ana/opt/miniconda3/lib/python3.8/site-packages (from ipython>=4.0.0; python_version >= \"3.3\"->ipywidgets) (0.7.5)\n",
      "Requirement already satisfied: prompt-toolkit!=3.0.0,!=3.0.1,<3.1.0,>=2.0.0 in /Users/ana/opt/miniconda3/lib/python3.8/site-packages (from ipython>=4.0.0; python_version >= \"3.3\"->ipywidgets) (3.0.14)\n",
      "Requirement already satisfied: setuptools>=18.5 in /Users/ana/opt/miniconda3/lib/python3.8/site-packages (from ipython>=4.0.0; python_version >= \"3.3\"->ipywidgets) (50.3.1.post20201107)\n",
      "Requirement already satisfied: jedi>=0.10 in /Users/ana/opt/miniconda3/lib/python3.8/site-packages (from ipython>=4.0.0; python_version >= \"3.3\"->ipywidgets) (0.18.0)\n",
      "Requirement already satisfied: backcall in /Users/ana/opt/miniconda3/lib/python3.8/site-packages (from ipython>=4.0.0; python_version >= \"3.3\"->ipywidgets) (0.2.0)\n",
      "Requirement already satisfied: pexpect>4.3; sys_platform != \"win32\" in /Users/ana/opt/miniconda3/lib/python3.8/site-packages (from ipython>=4.0.0; python_version >= \"3.3\"->ipywidgets) (4.8.0)\n",
      "Requirement already satisfied: appnope; sys_platform == \"darwin\" in /Users/ana/opt/miniconda3/lib/python3.8/site-packages (from ipython>=4.0.0; python_version >= \"3.3\"->ipywidgets) (0.1.2)\n",
      "Requirement already satisfied: notebook>=4.4.1 in /Users/ana/opt/miniconda3/lib/python3.8/site-packages (from widgetsnbextension~=3.5.0->ipywidgets) (6.2.0)\n",
      "Requirement already satisfied: ipython-genutils in /Users/ana/opt/miniconda3/lib/python3.8/site-packages (from nbformat>=4.2.0->ipywidgets) (0.2.0)\n",
      "Requirement already satisfied: jupyter-core in /Users/ana/opt/miniconda3/lib/python3.8/site-packages (from nbformat>=4.2.0->ipywidgets) (4.7.1)\n",
      "Requirement already satisfied: jsonschema!=2.5.0,>=2.4 in /Users/ana/opt/miniconda3/lib/python3.8/site-packages (from nbformat>=4.2.0->ipywidgets) (3.2.0)\n",
      "Requirement already satisfied: tornado>=4.2 in /Users/ana/opt/miniconda3/lib/python3.8/site-packages (from ipykernel>=4.5.1->ipywidgets) (6.1)\n",
      "Requirement already satisfied: jupyter-client in /Users/ana/opt/miniconda3/lib/python3.8/site-packages (from ipykernel>=4.5.1->ipywidgets) (6.1.11)\n",
      "Requirement already satisfied: six>=1.5 in /Users/ana/opt/miniconda3/lib/python3.8/site-packages (from python-dateutil>=2.1->matplotlib) (1.15.0)\n",
      "Requirement already satisfied: pytz>=2017.3 in /Users/ana/opt/miniconda3/lib/python3.8/site-packages (from pandas>=0.23->seaborn) (2020.5)\n",
      "Requirement already satisfied: wcwidth in /Users/ana/opt/miniconda3/lib/python3.8/site-packages (from prompt-toolkit!=3.0.0,!=3.0.1,<3.1.0,>=2.0.0->ipython>=4.0.0; python_version >= \"3.3\"->ipywidgets) (0.2.5)\n",
      "Requirement already satisfied: parso<0.9.0,>=0.8.0 in /Users/ana/opt/miniconda3/lib/python3.8/site-packages (from jedi>=0.10->ipython>=4.0.0; python_version >= \"3.3\"->ipywidgets) (0.8.1)\n",
      "Requirement already satisfied: ptyprocess>=0.5 in /Users/ana/opt/miniconda3/lib/python3.8/site-packages (from pexpect>4.3; sys_platform != \"win32\"->ipython>=4.0.0; python_version >= \"3.3\"->ipywidgets) (0.7.0)\n",
      "Requirement already satisfied: terminado>=0.8.3 in /Users/ana/opt/miniconda3/lib/python3.8/site-packages (from notebook>=4.4.1->widgetsnbextension~=3.5.0->ipywidgets) (0.9.2)\n",
      "Requirement already satisfied: nbconvert in /Users/ana/opt/miniconda3/lib/python3.8/site-packages (from notebook>=4.4.1->widgetsnbextension~=3.5.0->ipywidgets) (6.0.7)\n",
      "Requirement already satisfied: jinja2 in /Users/ana/opt/miniconda3/lib/python3.8/site-packages (from notebook>=4.4.1->widgetsnbextension~=3.5.0->ipywidgets) (2.11.3)\n",
      "Requirement already satisfied: Send2Trash>=1.5.0 in /Users/ana/opt/miniconda3/lib/python3.8/site-packages (from notebook>=4.4.1->widgetsnbextension~=3.5.0->ipywidgets) (1.5.0)\n",
      "Requirement already satisfied: prometheus-client in /Users/ana/opt/miniconda3/lib/python3.8/site-packages (from notebook>=4.4.1->widgetsnbextension~=3.5.0->ipywidgets) (0.9.0)\n",
      "Requirement already satisfied: pyzmq>=17 in /Users/ana/opt/miniconda3/lib/python3.8/site-packages (from notebook>=4.4.1->widgetsnbextension~=3.5.0->ipywidgets) (22.0.2)\n",
      "Requirement already satisfied: argon2-cffi in /Users/ana/opt/miniconda3/lib/python3.8/site-packages (from notebook>=4.4.1->widgetsnbextension~=3.5.0->ipywidgets) (20.1.0)\n",
      "Requirement already satisfied: attrs>=17.4.0 in /Users/ana/opt/miniconda3/lib/python3.8/site-packages (from jsonschema!=2.5.0,>=2.4->nbformat>=4.2.0->ipywidgets) (20.3.0)\n",
      "Requirement already satisfied: pyrsistent>=0.14.0 in /Users/ana/opt/miniconda3/lib/python3.8/site-packages (from jsonschema!=2.5.0,>=2.4->nbformat>=4.2.0->ipywidgets) (0.17.3)\n",
      "Requirement already satisfied: nbclient<0.6.0,>=0.5.0 in /Users/ana/opt/miniconda3/lib/python3.8/site-packages (from nbconvert->notebook>=4.4.1->widgetsnbextension~=3.5.0->ipywidgets) (0.5.1)\n",
      "Requirement already satisfied: jupyterlab-pygments in /Users/ana/opt/miniconda3/lib/python3.8/site-packages (from nbconvert->notebook>=4.4.1->widgetsnbextension~=3.5.0->ipywidgets) (0.1.2)\n",
      "Requirement already satisfied: bleach in /Users/ana/opt/miniconda3/lib/python3.8/site-packages (from nbconvert->notebook>=4.4.1->widgetsnbextension~=3.5.0->ipywidgets) (3.2.3)\n",
      "Requirement already satisfied: testpath in /Users/ana/opt/miniconda3/lib/python3.8/site-packages (from nbconvert->notebook>=4.4.1->widgetsnbextension~=3.5.0->ipywidgets) (0.4.4)\n",
      "Requirement already satisfied: entrypoints>=0.2.2 in /Users/ana/opt/miniconda3/lib/python3.8/site-packages (from nbconvert->notebook>=4.4.1->widgetsnbextension~=3.5.0->ipywidgets) (0.3)\n",
      "Requirement already satisfied: pandocfilters>=1.4.1 in /Users/ana/opt/miniconda3/lib/python3.8/site-packages (from nbconvert->notebook>=4.4.1->widgetsnbextension~=3.5.0->ipywidgets) (1.4.3)\n",
      "Requirement already satisfied: defusedxml in /Users/ana/opt/miniconda3/lib/python3.8/site-packages (from nbconvert->notebook>=4.4.1->widgetsnbextension~=3.5.0->ipywidgets) (0.6.0)\n",
      "Requirement already satisfied: mistune<2,>=0.8.1 in /Users/ana/opt/miniconda3/lib/python3.8/site-packages (from nbconvert->notebook>=4.4.1->widgetsnbextension~=3.5.0->ipywidgets) (0.8.4)\n",
      "Requirement already satisfied: MarkupSafe>=0.23 in /Users/ana/opt/miniconda3/lib/python3.8/site-packages (from jinja2->notebook>=4.4.1->widgetsnbextension~=3.5.0->ipywidgets) (1.1.1)\n",
      "Requirement already satisfied: cffi>=1.0.0 in /Users/ana/opt/miniconda3/lib/python3.8/site-packages (from argon2-cffi->notebook>=4.4.1->widgetsnbextension~=3.5.0->ipywidgets) (1.14.3)\n",
      "Requirement already satisfied: nest-asyncio in /Users/ana/opt/miniconda3/lib/python3.8/site-packages (from nbclient<0.6.0,>=0.5.0->nbconvert->notebook>=4.4.1->widgetsnbextension~=3.5.0->ipywidgets) (1.5.1)\n",
      "Requirement already satisfied: async-generator in /Users/ana/opt/miniconda3/lib/python3.8/site-packages (from nbclient<0.6.0,>=0.5.0->nbconvert->notebook>=4.4.1->widgetsnbextension~=3.5.0->ipywidgets) (1.10)\n",
      "Requirement already satisfied: webencodings in /Users/ana/opt/miniconda3/lib/python3.8/site-packages (from bleach->nbconvert->notebook>=4.4.1->widgetsnbextension~=3.5.0->ipywidgets) (0.5.1)\n",
      "Requirement already satisfied: packaging in /Users/ana/opt/miniconda3/lib/python3.8/site-packages (from bleach->nbconvert->notebook>=4.4.1->widgetsnbextension~=3.5.0->ipywidgets) (20.9)\n"
     ]
    },
    {
     "name": "stdout",
     "output_type": "stream",
     "text": [
      "Requirement already satisfied: pycparser in /Users/ana/opt/miniconda3/lib/python3.8/site-packages (from cffi>=1.0.0->argon2-cffi->notebook>=4.4.1->widgetsnbextension~=3.5.0->ipywidgets) (2.20)\n",
      "Note: you may need to restart the kernel to use updated packages.\n"
     ]
    }
   ],
   "source": [
    "pip install findspark py4j ipywidgets matplotlib seaborn"
   ]
  },
  {
   "cell_type": "code",
   "execution_count": 3,
   "metadata": {},
   "outputs": [
    {
     "name": "stdout",
     "output_type": "stream",
     "text": [
      "Enabling notebook extension jupyter-js-widgets/extension...\r\n",
      "      - Validating: \u001b[32mOK\u001b[0m\r\n"
     ]
    }
   ],
   "source": [
    "!jupyter nbextension enable --py widgetsnbextension"
   ]
  },
  {
   "cell_type": "code",
   "execution_count": 4,
   "metadata": {},
   "outputs": [],
   "source": [
    "# For local installations, use findspark to locate Spark.\n",
    "import findspark\n",
    "findspark.init(\"/Users/ana/server/spark-3.0.1-bin-hadoop2.7\")\n",
    "\n",
    "import pyspark\n",
    "from pyspark.context import SparkContext\n",
    "from pyspark.sql.session import SparkSession\n",
    "from pyspark.sql.functions import isnan, when, count, col\n",
    "import pandas as pd\n",
    "import ipywidgets as widgets\n",
    "from IPython.display import display\n",
    "from matplotlib import pyplot as plt\n",
    "%matplotlib inline\n",
    "\n",
    "#Seaborn for data visualization\n",
    "import seaborn as sns\n",
    "\n",
    "# Pandas Options\n",
    "pd.set_option('display.max_colwidth', None)\n",
    "pd.set_option('display.max_columns', None)"
   ]
  },
  {
   "cell_type": "code",
   "execution_count": 5,
   "metadata": {},
   "outputs": [],
   "source": [
    "sc = pyspark.SparkContext(appName=\"data-exploration-yelp\")\n",
    "\n",
    "spark = SparkSession(sc)"
   ]
  },
  {
   "cell_type": "code",
   "execution_count": 6,
   "metadata": {},
   "outputs": [],
   "source": [
    "yelp_business = \"../../yelp-raw/yelp_academic_dataset_business.json\""
   ]
  },
  {
   "cell_type": "markdown",
   "metadata": {},
   "source": [
    "### Initial Data Exploration\n",
    "\n",
    "We are going to explore each dataset and understand various statistical analysis of the data.\n",
    "\n",
    "#### Business Dataset Overview"
   ]
  },
  {
   "cell_type": "code",
   "execution_count": 7,
   "metadata": {},
   "outputs": [],
   "source": [
    "business_df = spark.read.json(yelp_business)"
   ]
  },
  {
   "cell_type": "code",
   "execution_count": 8,
   "metadata": {
    "scrolled": true
   },
   "outputs": [
    {
     "name": "stdout",
     "output_type": "stream",
     "text": [
      "+-------------------------+----------------------------------------------------------------------------------------------------------------------------------------------------+----------------------+--------------------------------------------------------------------------+---------------+-----------------------------------------------------------------------------+-------+----------+------------+------------------------+-----------+------------+-----+-----+\n",
      "|address                  |attributes                                                                                                                                          |business_id           |categories                                                                |city           |hours                                                                        |is_open|latitude  |longitude   |name                    |postal_code|review_count|stars|state|\n",
      "+-------------------------+----------------------------------------------------------------------------------------------------------------------------------------------------+----------------------+--------------------------------------------------------------------------+---------------+-----------------------------------------------------------------------------+-------+----------+------------+------------------------+-----------+------------+-----+-----+\n",
      "|10913 Bailey Rd          |[,,,,,,, True,, True, {'garage': False, 'street': False, 'validated': False, 'lot': True, 'valet': False}, False,,,,,,,, False,,,,,,,,,,,,, 3,,,,,,]|f9NumwFMBDn751xgFiRbNA|Active Life, Gun/Rifle Ranges, Guns & Ammo, Shopping                      |Cornelius      |[11:0-20:0, 10:0-18:0, 11:0-20:0, 13:0-18:0, 11:0-20:0, 11:0-20:0, 10:0-18:0]|1      |35.4627242|-80.8526119 |The Range At Lake Norman|28031      |36          |3.5  |NC   |\n",
      "|8880 E Via Linda, Ste 107|[,,,,,,,,,,, True,,,,,,,, True,,,,,,,,,,,,,,,,,,,]                                                                                                  |Yzvjg0SayhoZgCljUJRF9Q|Health & Medical, Fitness & Instruction, Yoga, Active Life, Pilates       |Scottsdale     |null                                                                         |1      |33.5694041|-111.8902637|Carlos Santo, NMD       |85258      |4           |5.0  |AZ   |\n",
      "|3554 Rue Notre-Dame O    |null                                                                                                                                                |XNoUzKckATkOD1hP6vghZg|Pets, Pet Services, Pet Groomers                                          |Montreal       |null                                                                         |1      |45.479984 |-73.58007   |Felinus                 |H4C 1P4    |5           |5.0  |QC   |\n",
      "|1015 Sharp Cir           |[,,,,,,, True,, True, {'garage': False, 'street': False, 'validated': False, 'lot': True, 'valet': False}, False,,,,, True,,,,,,,,,,,,,,,, 4,,,,,,] |6OAZjbxqM5ol29BuHsil3w|Hardware Stores, Home Services, Building Supplies, Home & Garden, Shopping|North Las Vegas|[7:0-16:0, 7:0-16:0,,, 7:0-16:0, 7:0-16:0, 7:0-16:0]                         |0      |36.2197281|-115.1277255|Nevada House of Hose    |89030      |3           |2.5  |NV   |\n",
      "|4827 E Downing Cir       |[,,,,,,,,, True,, True,,,,,,,,,,,,,,,,,,,,,,,,,,,]                                                                                                  |51M2Kk903DFYI6gnB5I6SQ|Home Services, Plumbing, Electricians, Handyman, Contractors              |Mesa           |[9:0-16:0, 0:0-0:0,,, 9:0-16:0, 9:0-16:0, 9:0-16:0]                          |1      |33.4280652|-111.7266485|USE MY GUY SERVICES LLC |85205      |26          |4.5  |AZ   |\n",
      "+-------------------------+----------------------------------------------------------------------------------------------------------------------------------------------------+----------------------+--------------------------------------------------------------------------+---------------+-----------------------------------------------------------------------------+-------+----------+------------+------------------------+-----------+------------+-----+-----+\n",
      "only showing top 5 rows\n",
      "\n"
     ]
    }
   ],
   "source": [
    "business_df.show(5,False)"
   ]
  },
  {
   "cell_type": "code",
   "execution_count": 9,
   "metadata": {
    "scrolled": true
   },
   "outputs": [
    {
     "name": "stdout",
     "output_type": "stream",
     "text": [
      "root\n",
      " |-- address: string (nullable = true)\n",
      " |-- attributes: struct (nullable = true)\n",
      " |    |-- AcceptsInsurance: string (nullable = true)\n",
      " |    |-- AgesAllowed: string (nullable = true)\n",
      " |    |-- Alcohol: string (nullable = true)\n",
      " |    |-- Ambience: string (nullable = true)\n",
      " |    |-- BYOB: string (nullable = true)\n",
      " |    |-- BYOBCorkage: string (nullable = true)\n",
      " |    |-- BestNights: string (nullable = true)\n",
      " |    |-- BikeParking: string (nullable = true)\n",
      " |    |-- BusinessAcceptsBitcoin: string (nullable = true)\n",
      " |    |-- BusinessAcceptsCreditCards: string (nullable = true)\n",
      " |    |-- BusinessParking: string (nullable = true)\n",
      " |    |-- ByAppointmentOnly: string (nullable = true)\n",
      " |    |-- Caters: string (nullable = true)\n",
      " |    |-- CoatCheck: string (nullable = true)\n",
      " |    |-- Corkage: string (nullable = true)\n",
      " |    |-- DietaryRestrictions: string (nullable = true)\n",
      " |    |-- DogsAllowed: string (nullable = true)\n",
      " |    |-- DriveThru: string (nullable = true)\n",
      " |    |-- GoodForDancing: string (nullable = true)\n",
      " |    |-- GoodForKids: string (nullable = true)\n",
      " |    |-- GoodForMeal: string (nullable = true)\n",
      " |    |-- HairSpecializesIn: string (nullable = true)\n",
      " |    |-- HappyHour: string (nullable = true)\n",
      " |    |-- HasTV: string (nullable = true)\n",
      " |    |-- Music: string (nullable = true)\n",
      " |    |-- NoiseLevel: string (nullable = true)\n",
      " |    |-- Open24Hours: string (nullable = true)\n",
      " |    |-- OutdoorSeating: string (nullable = true)\n",
      " |    |-- RestaurantsAttire: string (nullable = true)\n",
      " |    |-- RestaurantsCounterService: string (nullable = true)\n",
      " |    |-- RestaurantsDelivery: string (nullable = true)\n",
      " |    |-- RestaurantsGoodForGroups: string (nullable = true)\n",
      " |    |-- RestaurantsPriceRange2: string (nullable = true)\n",
      " |    |-- RestaurantsReservations: string (nullable = true)\n",
      " |    |-- RestaurantsTableService: string (nullable = true)\n",
      " |    |-- RestaurantsTakeOut: string (nullable = true)\n",
      " |    |-- Smoking: string (nullable = true)\n",
      " |    |-- WheelchairAccessible: string (nullable = true)\n",
      " |    |-- WiFi: string (nullable = true)\n",
      " |-- business_id: string (nullable = true)\n",
      " |-- categories: string (nullable = true)\n",
      " |-- city: string (nullable = true)\n",
      " |-- hours: struct (nullable = true)\n",
      " |    |-- Friday: string (nullable = true)\n",
      " |    |-- Monday: string (nullable = true)\n",
      " |    |-- Saturday: string (nullable = true)\n",
      " |    |-- Sunday: string (nullable = true)\n",
      " |    |-- Thursday: string (nullable = true)\n",
      " |    |-- Tuesday: string (nullable = true)\n",
      " |    |-- Wednesday: string (nullable = true)\n",
      " |-- is_open: long (nullable = true)\n",
      " |-- latitude: double (nullable = true)\n",
      " |-- longitude: double (nullable = true)\n",
      " |-- name: string (nullable = true)\n",
      " |-- postal_code: string (nullable = true)\n",
      " |-- review_count: long (nullable = true)\n",
      " |-- stars: double (nullable = true)\n",
      " |-- state: string (nullable = true)\n",
      "\n"
     ]
    }
   ],
   "source": [
    "business_df.printSchema()"
   ]
  },
  {
   "cell_type": "code",
   "execution_count": 10,
   "metadata": {},
   "outputs": [
    {
     "data": {
      "text/plain": [
       "209393"
      ]
     },
     "execution_count": 10,
     "metadata": {},
     "output_type": "execute_result"
    }
   ],
   "source": [
    "# Business ID's are unique, so we know we have about 200 thousand business.\n",
    "business_df.count()"
   ]
  },
  {
   "cell_type": "markdown",
   "metadata": {},
   "source": [
    "#### Flatten the dataset"
   ]
  },
  {
   "cell_type": "code",
   "execution_count": 11,
   "metadata": {},
   "outputs": [],
   "source": [
    "# Flattends dataframe to remove nesting.\n",
    "flat_business_df = business_df.select(\"address\", \"attributes.*\", \"business_id\", \"categories\", \"city\", \"hours.*\", \n",
    "                                      \"is_open\", \"latitude\", \"longitude\", \"name\", \"postal_code\", \"review_count\", \n",
    "                                      \"stars\", \"state\")"
   ]
  },
  {
   "cell_type": "code",
   "execution_count": 12,
   "metadata": {},
   "outputs": [
    {
     "name": "stdout",
     "output_type": "stream",
     "text": [
      "+-------------------------+----------------+-----------+-------+--------+----+-----------+----------+-----------+----------------------+--------------------------+-----------------------------------------------------------------------------------+-----------------+------+---------+-------+-------------------+-----------+---------+--------------+-----------+-----------+-----------------+---------+-----+-----+----------+-----------+--------------+-----------------+-------------------------+-------------------+------------------------+----------------------+-----------------------+-----------------------+------------------+-------+--------------------+----+----------------------+--------------------------------------------------------------------------+---------------+---------+---------+---------+---------+---------+---------+---------+-------+----------+------------+------------------------+-----------+------------+-----+-----+\n",
      "|address                  |AcceptsInsurance|AgesAllowed|Alcohol|Ambience|BYOB|BYOBCorkage|BestNights|BikeParking|BusinessAcceptsBitcoin|BusinessAcceptsCreditCards|BusinessParking                                                                    |ByAppointmentOnly|Caters|CoatCheck|Corkage|DietaryRestrictions|DogsAllowed|DriveThru|GoodForDancing|GoodForKids|GoodForMeal|HairSpecializesIn|HappyHour|HasTV|Music|NoiseLevel|Open24Hours|OutdoorSeating|RestaurantsAttire|RestaurantsCounterService|RestaurantsDelivery|RestaurantsGoodForGroups|RestaurantsPriceRange2|RestaurantsReservations|RestaurantsTableService|RestaurantsTakeOut|Smoking|WheelchairAccessible|WiFi|business_id           |categories                                                                |city           |Friday   |Monday   |Saturday |Sunday   |Thursday |Tuesday  |Wednesday|is_open|latitude  |longitude   |name                    |postal_code|review_count|stars|state|\n",
      "+-------------------------+----------------+-----------+-------+--------+----+-----------+----------+-----------+----------------------+--------------------------+-----------------------------------------------------------------------------------+-----------------+------+---------+-------+-------------------+-----------+---------+--------------+-----------+-----------+-----------------+---------+-----+-----+----------+-----------+--------------+-----------------+-------------------------+-------------------+------------------------+----------------------+-----------------------+-----------------------+------------------+-------+--------------------+----+----------------------+--------------------------------------------------------------------------+---------------+---------+---------+---------+---------+---------+---------+---------+-------+----------+------------+------------------------+-----------+------------+-----+-----+\n",
      "|10913 Bailey Rd          |null            |null       |null   |null    |null|null       |null      |True       |null                  |True                      |{'garage': False, 'street': False, 'validated': False, 'lot': True, 'valet': False}|False            |null  |null     |null   |null               |null       |null     |null          |False      |null       |null             |null     |null |null |null      |null       |null          |null             |null                     |null               |null                    |3                     |null                   |null                   |null              |null   |null                |null|f9NumwFMBDn751xgFiRbNA|Active Life, Gun/Rifle Ranges, Guns & Ammo, Shopping                      |Cornelius      |11:0-20:0|10:0-18:0|11:0-20:0|13:0-18:0|11:0-20:0|11:0-20:0|10:0-18:0|1      |35.4627242|-80.8526119 |The Range At Lake Norman|28031      |36          |3.5  |NC   |\n",
      "|8880 E Via Linda, Ste 107|null            |null       |null   |null    |null|null       |null      |null       |null                  |null                      |null                                                                               |True             |null  |null     |null   |null               |null       |null     |null          |True       |null       |null             |null     |null |null |null      |null       |null          |null             |null                     |null               |null                    |null                  |null                   |null                   |null              |null   |null                |null|Yzvjg0SayhoZgCljUJRF9Q|Health & Medical, Fitness & Instruction, Yoga, Active Life, Pilates       |Scottsdale     |null     |null     |null     |null     |null     |null     |null     |1      |33.5694041|-111.8902637|Carlos Santo, NMD       |85258      |4           |5.0  |AZ   |\n",
      "|3554 Rue Notre-Dame O    |null            |null       |null   |null    |null|null       |null      |null       |null                  |null                      |null                                                                               |null             |null  |null     |null   |null               |null       |null     |null          |null       |null       |null             |null     |null |null |null      |null       |null          |null             |null                     |null               |null                    |null                  |null                   |null                   |null              |null   |null                |null|XNoUzKckATkOD1hP6vghZg|Pets, Pet Services, Pet Groomers                                          |Montreal       |null     |null     |null     |null     |null     |null     |null     |1      |45.479984 |-73.58007   |Felinus                 |H4C 1P4    |5           |5.0  |QC   |\n",
      "|1015 Sharp Cir           |null            |null       |null   |null    |null|null       |null      |True       |null                  |True                      |{'garage': False, 'street': False, 'validated': False, 'lot': True, 'valet': False}|False            |null  |null     |null   |null               |True       |null     |null          |null       |null       |null             |null     |null |null |null      |null       |null          |null             |null                     |null               |null                    |4                     |null                   |null                   |null              |null   |null                |null|6OAZjbxqM5ol29BuHsil3w|Hardware Stores, Home Services, Building Supplies, Home & Garden, Shopping|North Las Vegas|7:0-16:0 |7:0-16:0 |null     |null     |7:0-16:0 |7:0-16:0 |7:0-16:0 |0      |36.2197281|-115.1277255|Nevada House of Hose    |89030      |3           |2.5  |NV   |\n",
      "|4827 E Downing Cir       |null            |null       |null   |null    |null|null       |null      |null       |null                  |True                      |null                                                                               |True             |null  |null     |null   |null               |null       |null     |null          |null       |null       |null             |null     |null |null |null      |null       |null          |null             |null                     |null               |null                    |null                  |null                   |null                   |null              |null   |null                |null|51M2Kk903DFYI6gnB5I6SQ|Home Services, Plumbing, Electricians, Handyman, Contractors              |Mesa           |9:0-16:0 |0:0-0:0  |null     |null     |9:0-16:0 |9:0-16:0 |9:0-16:0 |1      |33.4280652|-111.7266485|USE MY GUY SERVICES LLC |85205      |26          |4.5  |AZ   |\n",
      "+-------------------------+----------------+-----------+-------+--------+----+-----------+----------+-----------+----------------------+--------------------------+-----------------------------------------------------------------------------------+-----------------+------+---------+-------+-------------------+-----------+---------+--------------+-----------+-----------+-----------------+---------+-----+-----+----------+-----------+--------------+-----------------+-------------------------+-------------------+------------------------+----------------------+-----------------------+-----------------------+------------------+-------+--------------------+----+----------------------+--------------------------------------------------------------------------+---------------+---------+---------+---------+---------+---------+---------+---------+-------+----------+------------+------------------------+-----------+------------+-----+-----+\n",
      "only showing top 5 rows\n",
      "\n"
     ]
    }
   ],
   "source": [
    "flat_business_df.show(5, False)"
   ]
  },
  {
   "cell_type": "code",
   "execution_count": 13,
   "metadata": {},
   "outputs": [
    {
     "name": "stdout",
     "output_type": "stream",
     "text": [
      "root\n",
      " |-- address: string (nullable = true)\n",
      " |-- AcceptsInsurance: string (nullable = true)\n",
      " |-- AgesAllowed: string (nullable = true)\n",
      " |-- Alcohol: string (nullable = true)\n",
      " |-- Ambience: string (nullable = true)\n",
      " |-- BYOB: string (nullable = true)\n",
      " |-- BYOBCorkage: string (nullable = true)\n",
      " |-- BestNights: string (nullable = true)\n",
      " |-- BikeParking: string (nullable = true)\n",
      " |-- BusinessAcceptsBitcoin: string (nullable = true)\n",
      " |-- BusinessAcceptsCreditCards: string (nullable = true)\n",
      " |-- BusinessParking: string (nullable = true)\n",
      " |-- ByAppointmentOnly: string (nullable = true)\n",
      " |-- Caters: string (nullable = true)\n",
      " |-- CoatCheck: string (nullable = true)\n",
      " |-- Corkage: string (nullable = true)\n",
      " |-- DietaryRestrictions: string (nullable = true)\n",
      " |-- DogsAllowed: string (nullable = true)\n",
      " |-- DriveThru: string (nullable = true)\n",
      " |-- GoodForDancing: string (nullable = true)\n",
      " |-- GoodForKids: string (nullable = true)\n",
      " |-- GoodForMeal: string (nullable = true)\n",
      " |-- HairSpecializesIn: string (nullable = true)\n",
      " |-- HappyHour: string (nullable = true)\n",
      " |-- HasTV: string (nullable = true)\n",
      " |-- Music: string (nullable = true)\n",
      " |-- NoiseLevel: string (nullable = true)\n",
      " |-- Open24Hours: string (nullable = true)\n",
      " |-- OutdoorSeating: string (nullable = true)\n",
      " |-- RestaurantsAttire: string (nullable = true)\n",
      " |-- RestaurantsCounterService: string (nullable = true)\n",
      " |-- RestaurantsDelivery: string (nullable = true)\n",
      " |-- RestaurantsGoodForGroups: string (nullable = true)\n",
      " |-- RestaurantsPriceRange2: string (nullable = true)\n",
      " |-- RestaurantsReservations: string (nullable = true)\n",
      " |-- RestaurantsTableService: string (nullable = true)\n",
      " |-- RestaurantsTakeOut: string (nullable = true)\n",
      " |-- Smoking: string (nullable = true)\n",
      " |-- WheelchairAccessible: string (nullable = true)\n",
      " |-- WiFi: string (nullable = true)\n",
      " |-- business_id: string (nullable = true)\n",
      " |-- categories: string (nullable = true)\n",
      " |-- city: string (nullable = true)\n",
      " |-- Friday: string (nullable = true)\n",
      " |-- Monday: string (nullable = true)\n",
      " |-- Saturday: string (nullable = true)\n",
      " |-- Sunday: string (nullable = true)\n",
      " |-- Thursday: string (nullable = true)\n",
      " |-- Tuesday: string (nullable = true)\n",
      " |-- Wednesday: string (nullable = true)\n",
      " |-- is_open: long (nullable = true)\n",
      " |-- latitude: double (nullable = true)\n",
      " |-- longitude: double (nullable = true)\n",
      " |-- name: string (nullable = true)\n",
      " |-- postal_code: string (nullable = true)\n",
      " |-- review_count: long (nullable = true)\n",
      " |-- stars: double (nullable = true)\n",
      " |-- state: string (nullable = true)\n",
      "\n"
     ]
    }
   ],
   "source": [
    "flat_business_df.printSchema()"
   ]
  },
  {
   "cell_type": "code",
   "execution_count": null,
   "metadata": {},
   "outputs": [],
   "source": [
    "flat_business_df.write.parquet(\"./yelp_transformed/business_v1\")"
   ]
  },
  {
   "cell_type": "code",
   "execution_count": 16,
   "metadata": {},
   "outputs": [],
   "source": [
    "transformed_business_df = spark.read.parquet(\"./yelp_transformed/business_v1\")"
   ]
  },
  {
   "cell_type": "code",
   "execution_count": 17,
   "metadata": {
    "scrolled": true
   },
   "outputs": [
    {
     "name": "stdout",
     "output_type": "stream",
     "text": [
      "root\n",
      " |-- address: string (nullable = true)\n",
      " |-- AcceptsInsurance: string (nullable = true)\n",
      " |-- AgesAllowed: string (nullable = true)\n",
      " |-- Alcohol: string (nullable = true)\n",
      " |-- Ambience: string (nullable = true)\n",
      " |-- BYOB: string (nullable = true)\n",
      " |-- BYOBCorkage: string (nullable = true)\n",
      " |-- BestNights: string (nullable = true)\n",
      " |-- BikeParking: string (nullable = true)\n",
      " |-- BusinessAcceptsBitcoin: string (nullable = true)\n",
      " |-- BusinessAcceptsCreditCards: string (nullable = true)\n",
      " |-- BusinessParking: string (nullable = true)\n",
      " |-- ByAppointmentOnly: string (nullable = true)\n",
      " |-- Caters: string (nullable = true)\n",
      " |-- CoatCheck: string (nullable = true)\n",
      " |-- Corkage: string (nullable = true)\n",
      " |-- DietaryRestrictions: string (nullable = true)\n",
      " |-- DogsAllowed: string (nullable = true)\n",
      " |-- DriveThru: string (nullable = true)\n",
      " |-- GoodForDancing: string (nullable = true)\n",
      " |-- GoodForKids: string (nullable = true)\n",
      " |-- GoodForMeal: string (nullable = true)\n",
      " |-- HairSpecializesIn: string (nullable = true)\n",
      " |-- HappyHour: string (nullable = true)\n",
      " |-- HasTV: string (nullable = true)\n",
      " |-- Music: string (nullable = true)\n",
      " |-- NoiseLevel: string (nullable = true)\n",
      " |-- Open24Hours: string (nullable = true)\n",
      " |-- OutdoorSeating: string (nullable = true)\n",
      " |-- RestaurantsAttire: string (nullable = true)\n",
      " |-- RestaurantsCounterService: string (nullable = true)\n",
      " |-- RestaurantsDelivery: string (nullable = true)\n",
      " |-- RestaurantsGoodForGroups: string (nullable = true)\n",
      " |-- RestaurantsPriceRange2: string (nullable = true)\n",
      " |-- RestaurantsReservations: string (nullable = true)\n",
      " |-- RestaurantsTableService: string (nullable = true)\n",
      " |-- RestaurantsTakeOut: string (nullable = true)\n",
      " |-- Smoking: string (nullable = true)\n",
      " |-- WheelchairAccessible: string (nullable = true)\n",
      " |-- WiFi: string (nullable = true)\n",
      " |-- business_id: string (nullable = true)\n",
      " |-- categories: string (nullable = true)\n",
      " |-- city: string (nullable = true)\n",
      " |-- Friday: string (nullable = true)\n",
      " |-- Monday: string (nullable = true)\n",
      " |-- Saturday: string (nullable = true)\n",
      " |-- Sunday: string (nullable = true)\n",
      " |-- Thursday: string (nullable = true)\n",
      " |-- Tuesday: string (nullable = true)\n",
      " |-- Wednesday: string (nullable = true)\n",
      " |-- is_open: long (nullable = true)\n",
      " |-- latitude: double (nullable = true)\n",
      " |-- longitude: double (nullable = true)\n",
      " |-- name: string (nullable = true)\n",
      " |-- postal_code: string (nullable = true)\n",
      " |-- review_count: long (nullable = true)\n",
      " |-- stars: double (nullable = true)\n",
      " |-- state: string (nullable = true)\n",
      "\n"
     ]
    }
   ],
   "source": [
    "transformed_business_df.printSchema()"
   ]
  },
  {
   "cell_type": "code",
   "execution_count": 18,
   "metadata": {},
   "outputs": [
    {
     "name": "stdout",
     "output_type": "stream",
     "text": [
      "+------------------------------------+----------------+-----------+-------+--------+----+-----------+----------+-----------+----------------------+--------------------------+------------------------------------------------------------------------------------+-----------------+------+---------+-------+-------------------+-----------+---------+--------------+-----------+-----------+-----------------+---------+-----+-----+----------+-----------+--------------+-----------------+-------------------------+-------------------+------------------------+----------------------+-----------------------+-----------------------+------------------+-------+--------------------+-----+----------------------+-----------------------------------------------------------------------------------------------------------------------------+---------------+-----------+-----------+---------+---------+-----------+-----------+-----------+-------+-------------+---------------+------------------------------+-----------+------------+-----+-----+\n",
      "|address                             |AcceptsInsurance|AgesAllowed|Alcohol|Ambience|BYOB|BYOBCorkage|BestNights|BikeParking|BusinessAcceptsBitcoin|BusinessAcceptsCreditCards|BusinessParking                                                                     |ByAppointmentOnly|Caters|CoatCheck|Corkage|DietaryRestrictions|DogsAllowed|DriveThru|GoodForDancing|GoodForKids|GoodForMeal|HairSpecializesIn|HappyHour|HasTV|Music|NoiseLevel|Open24Hours|OutdoorSeating|RestaurantsAttire|RestaurantsCounterService|RestaurantsDelivery|RestaurantsGoodForGroups|RestaurantsPriceRange2|RestaurantsReservations|RestaurantsTableService|RestaurantsTakeOut|Smoking|WheelchairAccessible|WiFi |business_id           |categories                                                                                                                   |city           |Friday     |Monday     |Saturday |Sunday   |Thursday   |Tuesday    |Wednesday  |is_open|latitude     |longitude      |name                          |postal_code|review_count|stars|state|\n",
      "+------------------------------------+----------------+-----------+-------+--------+----+-----------+----------+-----------+----------------------+--------------------------+------------------------------------------------------------------------------------+-----------------+------+---------+-------+-------------------+-----------+---------+--------------+-----------+-----------+-----------------+---------+-----+-----+----------+-----------+--------------+-----------------+-------------------------+-------------------+------------------------+----------------------+-----------------------+-----------------------+------------------+-------+--------------------+-----+----------------------+-----------------------------------------------------------------------------------------------------------------------------+---------------+-----------+-----------+---------+---------+-----------+-----------+-----------+-------+-------------+---------------+------------------------------+-----------+------------+-----+-----+\n",
      "|10913 Bailey Rd                     |null            |null       |null   |null    |null|null       |null      |True       |null                  |True                      |{'garage': False, 'street': False, 'validated': False, 'lot': True, 'valet': False} |False            |null  |null     |null   |null               |null       |null     |null          |False      |null       |null             |null     |null |null |null      |null       |null          |null             |null                     |null               |null                    |3                     |null                   |null                   |null              |null   |null                |null |f9NumwFMBDn751xgFiRbNA|Active Life, Gun/Rifle Ranges, Guns & Ammo, Shopping                                                                         |Cornelius      |11:0-20:0  |10:0-18:0  |11:0-20:0|13:0-18:0|11:0-20:0  |11:0-20:0  |10:0-18:0  |1      |35.4627242   |-80.8526119    |The Range At Lake Norman      |28031      |36          |3.5  |NC   |\n",
      "|8880 E Via Linda, Ste 107           |null            |null       |null   |null    |null|null       |null      |null       |null                  |null                      |null                                                                                |True             |null  |null     |null   |null               |null       |null     |null          |True       |null       |null             |null     |null |null |null      |null       |null          |null             |null                     |null               |null                    |null                  |null                   |null                   |null              |null   |null                |null |Yzvjg0SayhoZgCljUJRF9Q|Health & Medical, Fitness & Instruction, Yoga, Active Life, Pilates                                                          |Scottsdale     |null       |null       |null     |null     |null       |null       |null       |1      |33.5694041   |-111.8902637   |Carlos Santo, NMD             |85258      |4           |5.0  |AZ   |\n",
      "|3554 Rue Notre-Dame O               |null            |null       |null   |null    |null|null       |null      |null       |null                  |null                      |null                                                                                |null             |null  |null     |null   |null               |null       |null     |null          |null       |null       |null             |null     |null |null |null      |null       |null          |null             |null                     |null               |null                    |null                  |null                   |null                   |null              |null   |null                |null |XNoUzKckATkOD1hP6vghZg|Pets, Pet Services, Pet Groomers                                                                                             |Montreal       |null       |null       |null     |null     |null       |null       |null       |1      |45.479984    |-73.58007      |Felinus                       |H4C 1P4    |5           |5.0  |QC   |\n",
      "|1015 Sharp Cir                      |null            |null       |null   |null    |null|null       |null      |True       |null                  |True                      |{'garage': False, 'street': False, 'validated': False, 'lot': True, 'valet': False} |False            |null  |null     |null   |null               |True       |null     |null          |null       |null       |null             |null     |null |null |null      |null       |null          |null             |null                     |null               |null                    |4                     |null                   |null                   |null              |null   |null                |null |6OAZjbxqM5ol29BuHsil3w|Hardware Stores, Home Services, Building Supplies, Home & Garden, Shopping                                                   |North Las Vegas|7:0-16:0   |7:0-16:0   |null     |null     |7:0-16:0   |7:0-16:0   |7:0-16:0   |0      |36.2197281   |-115.1277255   |Nevada House of Hose          |89030      |3           |2.5  |NV   |\n",
      "|4827 E Downing Cir                  |null            |null       |null   |null    |null|null       |null      |null       |null                  |True                      |null                                                                                |True             |null  |null     |null   |null               |null       |null     |null          |null       |null       |null             |null     |null |null |null      |null       |null          |null             |null                     |null               |null                    |null                  |null                   |null                   |null              |null   |null                |null |51M2Kk903DFYI6gnB5I6SQ|Home Services, Plumbing, Electricians, Handyman, Contractors                                                                 |Mesa           |9:0-16:0   |0:0-0:0    |null     |null     |9:0-16:0   |9:0-16:0   |9:0-16:0   |1      |33.4280652   |-111.7266485   |USE MY GUY SERVICES LLC       |85205      |26          |4.5  |AZ   |\n",
      "|1720 W Elliot Rd, Ste 105           |null            |null       |null   |null    |null|null       |null      |null       |null                  |True                      |null                                                                                |null             |null  |null     |null   |null               |null       |null     |null          |null       |null       |null             |null     |null |null |null      |null       |null          |null             |null                     |null               |null                    |null                  |null                   |null                   |null              |null   |null                |null |cKyLV5oWZJ2NudWgqs8VZw|Auto Repair, Automotive, Oil Change Stations, Transmission Repair                                                            |Gilbert        |7:0-18:0   |7:0-18:0   |7:0-15:0 |null     |7:0-18:0   |7:0-18:0   |7:0-18:0   |1      |33.3503993   |-111.8271417   |Oasis Auto Center - Gilbert   |85233      |38          |4.5  |AZ   |\n",
      "|6870 S Rainbow Blvd, Ste 117        |null            |null       |null   |null    |null|null       |null      |True       |null                  |True                      |{'garage': False, 'street': False, 'validated': False, 'lot': True, 'valet': False} |null             |null  |null     |null   |null               |null       |null     |null          |null       |null       |null             |null     |null |null |null      |null       |null          |null             |null                     |null               |null                    |1                     |null                   |null                   |null              |null   |null                |u'no'|oiAlXZPIFm2nBCt0DHLu_Q|Dry Cleaning & Laundry, Local Services, Laundry Services                                                                     |Las Vegas      |7:0-19:0   |7:0-19:0   |9:0-17:0 |null     |7:0-19:0   |7:0-19:0   |7:0-19:0   |1      |36.0639767   |-115.241463    |Green World Cleaners          |89118      |81          |3.5  |NV   |\n",
      "|6910 E Southern Ave                 |null            |null       |null   |null    |null|null       |null      |null       |null                  |True                      |null                                                                                |False            |null  |null     |null   |null               |null       |null     |null          |null       |null       |null             |null     |null |null |null      |null       |null          |null             |null                     |null               |null                    |null                  |null                   |null                   |null              |null   |null                |null |ScYkbYNkDgCneBrD9vqhCQ|Auto Repair, Oil Change Stations, Automotive, Tires                                                                          |Mesa           |7:30-17:0  |7:30-17:0  |7:30-13:0|null     |7:30-17:0  |7:30-17:0  |7:30-17:0  |1      |33.3938847   |-111.6822257   |Junction Tire & Auto Service  |85209      |18          |5.0  |AZ   |\n",
      "|404 E Green St                      |null            |null       |'none' |null    |null|null       |null      |False      |null                  |True                      |None                                                                                |False            |null  |null     |null   |null               |null       |null     |null          |False      |null       |null             |null     |True |null |u'quiet'  |null       |False         |u'casual'        |null                     |True               |False                   |1                     |False                  |null                   |True              |null   |null                |null |pQeaRpvuhoEqudo3uymHIQ|Ethnic Food, Food Trucks, Specialty Food, Imported Food, Argentine, Food, Restaurants, Empanadas                             |Champaign      |11:30-14:30|11:30-14:30|null     |null     |11:30-14:30|11:30-14:30|11:30-14:30|1      |40.1104457   |-88.2330726    |The Empanadas House           |61820      |5           |4.5  |IL   |\n",
      "|700 Kipling Avenue Etobicoke        |null            |null       |null   |null    |null|null       |null      |False      |null                  |null                      |{'garage': False, 'street': False, 'validated': False, 'lot': False, 'valet': False}|True             |null  |null     |null   |null               |null       |null     |null          |True       |null       |null             |null     |null |null |null      |null       |null          |null             |null                     |null               |null                    |null                  |null                   |null                   |null              |null   |null                |null |EosRKXIGeSWFYWwpkbhNnA|Martial Arts, Gyms, Fitness & Instruction, Active Life                                                                       |Toronto        |5:30-23:0  |5:30-23:0  |8:0-19:0 |8:0-17:0 |5:30-23:0  |5:30-23:0  |5:30-23:0  |1      |43.6245394916|-79.5291079302 |Xtreme Couture                |M8Z 5G3    |16          |3.0  |ON   |\n",
      "|                                    |null            |null       |null   |null    |null|null       |null      |null       |null                  |null                      |null                                                                                |null             |null  |null     |null   |null               |null       |null     |null          |null       |null       |null             |null     |null |null |null      |null       |null          |null             |null                     |null               |null                    |null                  |null                   |null                   |null              |null   |null                |null |MbZMmwo-eL0Jnm_Yb9KJrA|Contractors, Landscaping, Home Services                                                                                      |Calgary        |7:0-17:0   |7:0-17:0   |7:0-17:0 |null     |7:0-17:0   |7:0-17:0   |7:0-17:0   |1      |50.9459599   |-114.0372072   |Chinook Landscaping and Design|T2J 2P2    |3           |5.0  |AB   |\n",
      "|1110 Saw Mill Run Blvd              |null            |null       |null   |null    |null|null       |null      |null       |null                  |True                      |null                                                                                |null             |null  |null     |null   |null               |null       |null     |null          |null       |null       |null             |null     |null |null |null      |null       |null          |null             |null                     |null               |null                    |null                  |null                   |null                   |null              |null   |null                |null |7Dv4_HAxsxvadEsT5fxQBg|Automotive, Auto Repair                                                                                                      |Pittsburgh     |8:0-17:0   |8:0-17:0   |8:0-17:0 |null     |8:0-17:0   |8:0-17:0   |null       |1      |40.4066674   |-80.0044502    |Dependable Brakes & Exhaust   |15226      |5           |5.0  |PA   |\n",
      "|2831 Parmenter St                   |null            |null       |null   |null    |null|null       |null      |True       |null                  |True                      |{'garage': False, 'street': True, 'validated': False, 'lot': True, 'valet': False}  |null             |True  |null     |null   |null               |null       |null     |null          |null       |null       |null             |null     |null |null |null      |null       |null          |null             |null                     |null               |null                    |1                     |null                   |null                   |True              |null   |True                |u'no'|M_guz7Dj7hX0evS672wIwA|Desserts, Food, Ice Cream & Frozen Yogurt                                                                                    |Middleton      |11:0-22:0  |0:0-0:0    |11:0-22:0|11:0-21:0|11:0-21:0  |11:0-21:0  |11:0-21:0  |1      |43.1053100891|-89.5101417974 |Chocolate Shoppe Ice Cream    |53562      |6           |3.5  |WI   |\n",
      "|116 N Roosevelt Ave, Bldg B, Ste 124|null            |null       |null   |null    |null|null       |null      |null       |null                  |True                      |null                                                                                |True             |null  |null     |null   |null               |null       |null     |null          |null       |null       |null             |null     |null |null |null      |null       |null          |null             |null                     |null               |null                    |null                  |null                   |null                   |null              |null   |null                |null |JjJs3o60uQCfctDjs45cmA|Contractors, Home Services, Local Services                                                                                   |Chandler       |9:0-16:0   |9:0-16:0   |null     |null     |9:0-16:0   |9:0-16:0   |9:0-16:0   |1      |33.3038687   |-111.9516598   |Convertabath                  |85226      |10          |2.5  |AZ   |\n",
      "|5465 Simmons St                     |null            |null       |null   |null    |null|null       |null      |null       |null                  |True                      |{'garage': False, 'street': False, 'validated': False, 'lot': False, 'valet': False}|True             |null  |null     |null   |null               |null       |null     |null          |null       |null       |null             |null     |null |null |null      |null       |null          |null             |null                     |null               |null                    |3                     |null                   |null                   |null              |null   |null                |null |kOICO53wbOiOJcKuCgOQ3A|Beauty & Spas, Tanning                                                                                                       |North Las Vegas|8:0-21:0   |8:0-21:0   |9:0-19:0 |9:0-19:0 |8:0-21:0   |8:0-21:0   |8:0-21:0   |0      |36.263362    |-115.1798386   |Tan Las Vegas                 |89031      |5           |3.5  |NV   |\n",
      "|2402 Atchley Dr                     |null            |null       |null   |null    |null|null       |null      |null       |null                  |True                      |null                                                                                |null             |null  |null     |null   |null               |null       |null     |null          |null       |null       |null             |null     |null |null |null      |null       |null          |null             |null                     |null               |null                    |null                  |null                   |null                   |null              |null   |null                |null |rqcOZePlVvJP9EtzldIz0w|Local Services, Self Storage                                                                                                 |Henderson      |8:0-18:0   |8:0-18:0   |8:0-18:0 |9:0-15:0 |8:0-18:0   |8:0-18:0   |8:0-18:0   |0      |35.9520457   |-115.0934834   |Desert Storage                |89052      |5           |5.0  |NV   |\n",
      "|3131 Las Vegas Blvd                 |null            |null       |null   |null    |null|null       |null      |True       |null                  |True                      |{'garage': True, 'street': False, 'validated': False, 'lot': False, 'valet': False} |null             |null  |null     |null   |null               |null       |null     |null          |null       |null       |null             |null     |null |null |null      |null       |null          |null             |null                     |null               |null                    |4                     |null                   |null                   |null              |null   |null                |null |uZuh51lXu7tsrC8RAwkg1A|Shopping, Shoe Stores, Fashion                                                                                               |Las Vegas      |null       |null       |null     |null     |null       |null       |null       |0      |36.1257322229|-115.1676084101|Manolo Blahnik                |89109      |32          |4.5  |NV   |\n",
      "|2115 E Cedar St, Unit 3             |null            |null       |null   |null    |null|null       |null      |null       |null                  |True                      |null                                                                                |null             |null  |null     |null   |null               |null       |null     |null          |null       |null       |null             |null     |null |null |null      |null       |null          |null             |null                     |True               |null                    |null                  |null                   |null                   |null              |null   |null                |null |nIEhsGbw0vJuYl05bzzj6Q|Event Planning & Services, Wedding Planning, Flowers & Gifts, Shopping, Party & Event Planning, Florists                     |Tempe          |null       |null       |null     |null     |null       |null       |null       |1      |33.4115139   |-111.8953784   |Bloom & Blueprint             |85281      |7           |4.5  |AZ   |\n",
      "|2915 Cherry Rd                      |null            |null       |null   |null    |null|null       |null      |null       |null                  |True                      |null                                                                                |null             |null  |null     |null   |null               |null       |null     |null          |null       |null       |null             |null     |null |null |null      |null       |null          |null             |null                     |null               |null                    |null                  |null                   |null                   |null              |null   |null                |null |edQoeeBFUTYGwnUSE0tGPg|Auto Customization, Tires, Motorcycle Repair, Automotive, Oil Change Stations, Auto Repair                                   |Rock Hill      |8:0-18:0   |8:0-18:0   |9:0-15:0 |null     |8:0-18:0   |8:0-18:0   |8:0-18:0   |1      |34.9811205   |-80.9790228    |Car Guyz                      |29730      |10          |4.5  |SC   |\n",
      "|5229 S Power Rd                     |False           |null       |null   |null    |null|null       |null      |True       |null                  |True                      |{'garage': False, 'street': False, 'validated': False, 'lot': True, 'valet': False} |True             |null  |null     |null   |null               |False      |null     |null          |True       |null       |null             |null     |null |null |null      |null       |null          |null             |null                     |null               |null                    |null                  |null                   |null                   |null              |null   |True                |null |Vwo64kNYDjKi98gUUv4-iQ|Weight Loss Centers, Fitness & Instruction, Boot Camps, Health & Medical, Active Life, Gyms, Trainers, Interval Training Gyms|Mesa           |5:30-20:0  |5:30-20:0  |7:30-10:0|null     |5:30-20:0  |5:30-20:0  |5:30-20:0  |1      |33.3207235   |-111.6858686   |Gateway Fit Body Boot Camp    |85212      |16          |4.5  |AZ   |\n",
      "+------------------------------------+----------------+-----------+-------+--------+----+-----------+----------+-----------+----------------------+--------------------------+------------------------------------------------------------------------------------+-----------------+------+---------+-------+-------------------+-----------+---------+--------------+-----------+-----------+-----------------+---------+-----+-----+----------+-----------+--------------+-----------------+-------------------------+-------------------+------------------------+----------------------+-----------------------+-----------------------+------------------+-------+--------------------+-----+----------------------+-----------------------------------------------------------------------------------------------------------------------------+---------------+-----------+-----------+---------+---------+-----------+-----------+-----------+-------+-------------+---------------+------------------------------+-----------+------------+-----+-----+\n",
      "only showing top 20 rows\n",
      "\n"
     ]
    }
   ],
   "source": [
    "transformed_business_df.show(20, False)"
   ]
  },
  {
   "cell_type": "code",
   "execution_count": 19,
   "metadata": {},
   "outputs": [
    {
     "data": {
      "text/plain": [
       "209393"
      ]
     },
     "execution_count": 19,
     "metadata": {},
     "output_type": "execute_result"
    }
   ],
   "source": [
    "# Get count of all the rows to get the amount of business.\n",
    "total_businesses = transformed_business_df.count()\n",
    "total_businesses"
   ]
  },
  {
   "cell_type": "code",
   "execution_count": 20,
   "metadata": {},
   "outputs": [],
   "source": [
    "# Creates new dataframe that counts all nulls within a column iteratively.\n",
    "null_df = transformed_business_df.select([count(when(col(c).isNull(), c)).alias(c) for c in transformed_business_df.columns])"
   ]
  },
  {
   "cell_type": "code",
   "execution_count": 21,
   "metadata": {},
   "outputs": [],
   "source": [
    "null_pd = null_df.toPandas()"
   ]
  },
  {
   "cell_type": "code",
   "execution_count": 22,
   "metadata": {},
   "outputs": [
    {
     "data": {
      "text/html": [
       "<div>\n",
       "<style scoped>\n",
       "    .dataframe tbody tr th:only-of-type {\n",
       "        vertical-align: middle;\n",
       "    }\n",
       "\n",
       "    .dataframe tbody tr th {\n",
       "        vertical-align: top;\n",
       "    }\n",
       "\n",
       "    .dataframe thead th {\n",
       "        text-align: right;\n",
       "    }\n",
       "</style>\n",
       "<table border=\"1\" class=\"dataframe\">\n",
       "  <thead>\n",
       "    <tr style=\"text-align: right;\">\n",
       "      <th></th>\n",
       "      <th>address</th>\n",
       "      <th>AcceptsInsurance</th>\n",
       "      <th>AgesAllowed</th>\n",
       "      <th>Alcohol</th>\n",
       "      <th>Ambience</th>\n",
       "      <th>BYOB</th>\n",
       "      <th>BYOBCorkage</th>\n",
       "      <th>BestNights</th>\n",
       "      <th>BikeParking</th>\n",
       "      <th>BusinessAcceptsBitcoin</th>\n",
       "      <th>BusinessAcceptsCreditCards</th>\n",
       "      <th>BusinessParking</th>\n",
       "      <th>ByAppointmentOnly</th>\n",
       "      <th>Caters</th>\n",
       "      <th>CoatCheck</th>\n",
       "      <th>Corkage</th>\n",
       "      <th>DietaryRestrictions</th>\n",
       "      <th>DogsAllowed</th>\n",
       "      <th>DriveThru</th>\n",
       "      <th>GoodForDancing</th>\n",
       "      <th>GoodForKids</th>\n",
       "      <th>GoodForMeal</th>\n",
       "      <th>HairSpecializesIn</th>\n",
       "      <th>HappyHour</th>\n",
       "      <th>HasTV</th>\n",
       "      <th>Music</th>\n",
       "      <th>NoiseLevel</th>\n",
       "      <th>Open24Hours</th>\n",
       "      <th>OutdoorSeating</th>\n",
       "      <th>RestaurantsAttire</th>\n",
       "      <th>RestaurantsCounterService</th>\n",
       "      <th>RestaurantsDelivery</th>\n",
       "      <th>RestaurantsGoodForGroups</th>\n",
       "      <th>RestaurantsPriceRange2</th>\n",
       "      <th>RestaurantsReservations</th>\n",
       "      <th>RestaurantsTableService</th>\n",
       "      <th>RestaurantsTakeOut</th>\n",
       "      <th>Smoking</th>\n",
       "      <th>WheelchairAccessible</th>\n",
       "      <th>WiFi</th>\n",
       "      <th>business_id</th>\n",
       "      <th>categories</th>\n",
       "      <th>city</th>\n",
       "      <th>Friday</th>\n",
       "      <th>Monday</th>\n",
       "      <th>Saturday</th>\n",
       "      <th>Sunday</th>\n",
       "      <th>Thursday</th>\n",
       "      <th>Tuesday</th>\n",
       "      <th>Wednesday</th>\n",
       "      <th>is_open</th>\n",
       "      <th>latitude</th>\n",
       "      <th>longitude</th>\n",
       "      <th>name</th>\n",
       "      <th>postal_code</th>\n",
       "      <th>review_count</th>\n",
       "      <th>stars</th>\n",
       "      <th>state</th>\n",
       "    </tr>\n",
       "  </thead>\n",
       "  <tbody>\n",
       "    <tr>\n",
       "      <th>0</th>\n",
       "      <td>0</td>\n",
       "      <td>200733</td>\n",
       "      <td>209257</td>\n",
       "      <td>158555</td>\n",
       "      <td>155587</td>\n",
       "      <td>208653</td>\n",
       "      <td>207968</td>\n",
       "      <td>203910</td>\n",
       "      <td>119628</td>\n",
       "      <td>192861</td>\n",
       "      <td>87156</td>\n",
       "      <td>94178</td>\n",
       "      <td>148594</td>\n",
       "      <td>165424</td>\n",
       "      <td>204484</td>\n",
       "      <td>208303</td>\n",
       "      <td>209332</td>\n",
       "      <td>191854</td>\n",
       "      <td>205111</td>\n",
       "      <td>204207</td>\n",
       "      <td>140858</td>\n",
       "      <td>174211</td>\n",
       "      <td>208133</td>\n",
       "      <td>194069</td>\n",
       "      <td>156005</td>\n",
       "      <td>201481</td>\n",
       "      <td>162834</td>\n",
       "      <td>209379</td>\n",
       "      <td>150952</td>\n",
       "      <td>159826</td>\n",
       "      <td>209380</td>\n",
       "      <td>152714</td>\n",
       "      <td>153231</td>\n",
       "      <td>98105</td>\n",
       "      <td>154032</td>\n",
       "      <td>188608</td>\n",
       "      <td>143092</td>\n",
       "      <td>205123</td>\n",
       "      <td>180758</td>\n",
       "      <td>144062</td>\n",
       "      <td>0</td>\n",
       "      <td>524</td>\n",
       "      <td>0</td>\n",
       "      <td>47878</td>\n",
       "      <td>57521</td>\n",
       "      <td>69814</td>\n",
       "      <td>107276</td>\n",
       "      <td>47112</td>\n",
       "      <td>49757</td>\n",
       "      <td>47902</td>\n",
       "      <td>0</td>\n",
       "      <td>0</td>\n",
       "      <td>0</td>\n",
       "      <td>0</td>\n",
       "      <td>0</td>\n",
       "      <td>0</td>\n",
       "      <td>0</td>\n",
       "      <td>0</td>\n",
       "    </tr>\n",
       "  </tbody>\n",
       "</table>\n",
       "</div>"
      ],
      "text/plain": [
       "   address  AcceptsInsurance  AgesAllowed  Alcohol  Ambience    BYOB  \\\n",
       "0        0            200733       209257   158555    155587  208653   \n",
       "\n",
       "   BYOBCorkage  BestNights  BikeParking  BusinessAcceptsBitcoin  \\\n",
       "0       207968      203910       119628                  192861   \n",
       "\n",
       "   BusinessAcceptsCreditCards  BusinessParking  ByAppointmentOnly  Caters  \\\n",
       "0                       87156            94178             148594  165424   \n",
       "\n",
       "   CoatCheck  Corkage  DietaryRestrictions  DogsAllowed  DriveThru  \\\n",
       "0     204484   208303               209332       191854     205111   \n",
       "\n",
       "   GoodForDancing  GoodForKids  GoodForMeal  HairSpecializesIn  HappyHour  \\\n",
       "0          204207       140858       174211             208133     194069   \n",
       "\n",
       "    HasTV   Music  NoiseLevel  Open24Hours  OutdoorSeating  RestaurantsAttire  \\\n",
       "0  156005  201481      162834       209379          150952             159826   \n",
       "\n",
       "   RestaurantsCounterService  RestaurantsDelivery  RestaurantsGoodForGroups  \\\n",
       "0                     209380               152714                    153231   \n",
       "\n",
       "   RestaurantsPriceRange2  RestaurantsReservations  RestaurantsTableService  \\\n",
       "0                   98105                   154032                   188608   \n",
       "\n",
       "   RestaurantsTakeOut  Smoking  WheelchairAccessible    WiFi  business_id  \\\n",
       "0              143092   205123                180758  144062            0   \n",
       "\n",
       "   categories  city  Friday  Monday  Saturday  Sunday  Thursday  Tuesday  \\\n",
       "0         524     0   47878   57521     69814  107276     47112    49757   \n",
       "\n",
       "   Wednesday  is_open  latitude  longitude  name  postal_code  review_count  \\\n",
       "0      47902        0         0          0     0            0             0   \n",
       "\n",
       "   stars  state  \n",
       "0      0      0  "
      ]
     },
     "execution_count": 22,
     "metadata": {},
     "output_type": "execute_result"
    }
   ],
   "source": [
    "null_pd"
   ]
  },
  {
   "cell_type": "code",
   "execution_count": 23,
   "metadata": {},
   "outputs": [
    {
     "data": {
      "text/html": [
       "<div>\n",
       "<style scoped>\n",
       "    .dataframe tbody tr th:only-of-type {\n",
       "        vertical-align: middle;\n",
       "    }\n",
       "\n",
       "    .dataframe tbody tr th {\n",
       "        vertical-align: top;\n",
       "    }\n",
       "\n",
       "    .dataframe thead th {\n",
       "        text-align: right;\n",
       "    }\n",
       "</style>\n",
       "<table border=\"1\" class=\"dataframe\">\n",
       "  <thead>\n",
       "    <tr style=\"text-align: right;\">\n",
       "      <th></th>\n",
       "      <th>address</th>\n",
       "      <th>AcceptsInsurance</th>\n",
       "      <th>AgesAllowed</th>\n",
       "      <th>Alcohol</th>\n",
       "      <th>Ambience</th>\n",
       "      <th>BYOB</th>\n",
       "      <th>BYOBCorkage</th>\n",
       "      <th>BestNights</th>\n",
       "      <th>BikeParking</th>\n",
       "      <th>BusinessAcceptsBitcoin</th>\n",
       "      <th>BusinessAcceptsCreditCards</th>\n",
       "      <th>BusinessParking</th>\n",
       "      <th>ByAppointmentOnly</th>\n",
       "      <th>Caters</th>\n",
       "      <th>CoatCheck</th>\n",
       "      <th>Corkage</th>\n",
       "      <th>DietaryRestrictions</th>\n",
       "      <th>DogsAllowed</th>\n",
       "      <th>DriveThru</th>\n",
       "      <th>GoodForDancing</th>\n",
       "      <th>GoodForKids</th>\n",
       "      <th>GoodForMeal</th>\n",
       "      <th>HairSpecializesIn</th>\n",
       "      <th>HappyHour</th>\n",
       "      <th>HasTV</th>\n",
       "      <th>Music</th>\n",
       "      <th>NoiseLevel</th>\n",
       "      <th>Open24Hours</th>\n",
       "      <th>OutdoorSeating</th>\n",
       "      <th>RestaurantsAttire</th>\n",
       "      <th>RestaurantsCounterService</th>\n",
       "      <th>RestaurantsDelivery</th>\n",
       "      <th>RestaurantsGoodForGroups</th>\n",
       "      <th>RestaurantsPriceRange2</th>\n",
       "      <th>RestaurantsReservations</th>\n",
       "      <th>RestaurantsTableService</th>\n",
       "      <th>RestaurantsTakeOut</th>\n",
       "      <th>Smoking</th>\n",
       "      <th>WheelchairAccessible</th>\n",
       "      <th>WiFi</th>\n",
       "      <th>business_id</th>\n",
       "      <th>categories</th>\n",
       "      <th>city</th>\n",
       "      <th>Friday</th>\n",
       "      <th>Monday</th>\n",
       "      <th>Saturday</th>\n",
       "      <th>Sunday</th>\n",
       "      <th>Thursday</th>\n",
       "      <th>Tuesday</th>\n",
       "      <th>Wednesday</th>\n",
       "      <th>is_open</th>\n",
       "      <th>latitude</th>\n",
       "      <th>longitude</th>\n",
       "      <th>name</th>\n",
       "      <th>postal_code</th>\n",
       "      <th>review_count</th>\n",
       "      <th>stars</th>\n",
       "      <th>state</th>\n",
       "    </tr>\n",
       "  </thead>\n",
       "  <tbody>\n",
       "    <tr>\n",
       "      <th>0</th>\n",
       "      <td>0.0</td>\n",
       "      <td>95.864236</td>\n",
       "      <td>99.93505</td>\n",
       "      <td>75.721251</td>\n",
       "      <td>74.303821</td>\n",
       "      <td>99.646598</td>\n",
       "      <td>99.319461</td>\n",
       "      <td>97.381479</td>\n",
       "      <td>57.13085</td>\n",
       "      <td>92.104798</td>\n",
       "      <td>41.623168</td>\n",
       "      <td>44.976671</td>\n",
       "      <td>70.964168</td>\n",
       "      <td>79.001686</td>\n",
       "      <td>97.655605</td>\n",
       "      <td>99.479448</td>\n",
       "      <td>99.970868</td>\n",
       "      <td>91.623884</td>\n",
       "      <td>97.955041</td>\n",
       "      <td>97.523317</td>\n",
       "      <td>67.26968</td>\n",
       "      <td>83.198101</td>\n",
       "      <td>99.398261</td>\n",
       "      <td>92.681704</td>\n",
       "      <td>74.503446</td>\n",
       "      <td>96.221459</td>\n",
       "      <td>77.764777</td>\n",
       "      <td>99.993314</td>\n",
       "      <td>72.09028</td>\n",
       "      <td>76.328244</td>\n",
       "      <td>99.993792</td>\n",
       "      <td>72.93176</td>\n",
       "      <td>73.178664</td>\n",
       "      <td>46.852092</td>\n",
       "      <td>73.561198</td>\n",
       "      <td>90.073689</td>\n",
       "      <td>68.336573</td>\n",
       "      <td>97.960772</td>\n",
       "      <td>86.324758</td>\n",
       "      <td>68.799817</td>\n",
       "      <td>0.0</td>\n",
       "      <td>0.250247</td>\n",
       "      <td>0.0</td>\n",
       "      <td>22.865139</td>\n",
       "      <td>27.470355</td>\n",
       "      <td>33.341134</td>\n",
       "      <td>51.231894</td>\n",
       "      <td>22.499319</td>\n",
       "      <td>23.762494</td>\n",
       "      <td>22.8766</td>\n",
       "      <td>0.0</td>\n",
       "      <td>0.0</td>\n",
       "      <td>0.0</td>\n",
       "      <td>0.0</td>\n",
       "      <td>0.0</td>\n",
       "      <td>0.0</td>\n",
       "      <td>0.0</td>\n",
       "      <td>0.0</td>\n",
       "    </tr>\n",
       "  </tbody>\n",
       "</table>\n",
       "</div>"
      ],
      "text/plain": [
       "   address  AcceptsInsurance  AgesAllowed    Alcohol   Ambience       BYOB  \\\n",
       "0      0.0         95.864236     99.93505  75.721251  74.303821  99.646598   \n",
       "\n",
       "   BYOBCorkage  BestNights  BikeParking  BusinessAcceptsBitcoin  \\\n",
       "0    99.319461   97.381479     57.13085               92.104798   \n",
       "\n",
       "   BusinessAcceptsCreditCards  BusinessParking  ByAppointmentOnly     Caters  \\\n",
       "0                   41.623168        44.976671          70.964168  79.001686   \n",
       "\n",
       "   CoatCheck    Corkage  DietaryRestrictions  DogsAllowed  DriveThru  \\\n",
       "0  97.655605  99.479448            99.970868    91.623884  97.955041   \n",
       "\n",
       "   GoodForDancing  GoodForKids  GoodForMeal  HairSpecializesIn  HappyHour  \\\n",
       "0       97.523317     67.26968    83.198101          99.398261  92.681704   \n",
       "\n",
       "       HasTV      Music  NoiseLevel  Open24Hours  OutdoorSeating  \\\n",
       "0  74.503446  96.221459   77.764777    99.993314        72.09028   \n",
       "\n",
       "   RestaurantsAttire  RestaurantsCounterService  RestaurantsDelivery  \\\n",
       "0          76.328244                  99.993792             72.93176   \n",
       "\n",
       "   RestaurantsGoodForGroups  RestaurantsPriceRange2  RestaurantsReservations  \\\n",
       "0                 73.178664               46.852092                73.561198   \n",
       "\n",
       "   RestaurantsTableService  RestaurantsTakeOut    Smoking  \\\n",
       "0                90.073689           68.336573  97.960772   \n",
       "\n",
       "   WheelchairAccessible       WiFi  business_id  categories  city     Friday  \\\n",
       "0             86.324758  68.799817          0.0    0.250247   0.0  22.865139   \n",
       "\n",
       "      Monday   Saturday     Sunday   Thursday    Tuesday  Wednesday  is_open  \\\n",
       "0  27.470355  33.341134  51.231894  22.499319  23.762494    22.8766      0.0   \n",
       "\n",
       "   latitude  longitude  name  postal_code  review_count  stars  state  \n",
       "0       0.0        0.0   0.0          0.0           0.0    0.0    0.0  "
      ]
     },
     "execution_count": 23,
     "metadata": {},
     "output_type": "execute_result"
    }
   ],
   "source": [
    "# Divide all null column counts by the amount of businesses, to get total percentage of missing values\n",
    "null_percentage_pd = null_pd.div(total_businesses / 100, axis=0)\n",
    "null_percentage_pd"
   ]
  },
  {
   "cell_type": "code",
   "execution_count": 24,
   "metadata": {},
   "outputs": [
    {
     "data": {
      "text/html": [
       "<div>\n",
       "<style scoped>\n",
       "    .dataframe tbody tr th:only-of-type {\n",
       "        vertical-align: middle;\n",
       "    }\n",
       "\n",
       "    .dataframe tbody tr th {\n",
       "        vertical-align: top;\n",
       "    }\n",
       "\n",
       "    .dataframe thead th {\n",
       "        text-align: right;\n",
       "    }\n",
       "</style>\n",
       "<table border=\"1\" class=\"dataframe\">\n",
       "  <thead>\n",
       "    <tr style=\"text-align: right;\">\n",
       "      <th></th>\n",
       "      <th>address</th>\n",
       "      <th>BusinessAcceptsCreditCards</th>\n",
       "      <th>BusinessParking</th>\n",
       "      <th>RestaurantsPriceRange2</th>\n",
       "      <th>business_id</th>\n",
       "      <th>categories</th>\n",
       "      <th>city</th>\n",
       "      <th>Friday</th>\n",
       "      <th>Monday</th>\n",
       "      <th>Saturday</th>\n",
       "      <th>Thursday</th>\n",
       "      <th>Tuesday</th>\n",
       "      <th>Wednesday</th>\n",
       "      <th>is_open</th>\n",
       "      <th>latitude</th>\n",
       "      <th>longitude</th>\n",
       "      <th>name</th>\n",
       "      <th>postal_code</th>\n",
       "      <th>review_count</th>\n",
       "      <th>stars</th>\n",
       "      <th>state</th>\n",
       "    </tr>\n",
       "  </thead>\n",
       "  <tbody>\n",
       "    <tr>\n",
       "      <th>0</th>\n",
       "      <td>0.0</td>\n",
       "      <td>41.623168</td>\n",
       "      <td>44.976671</td>\n",
       "      <td>46.852092</td>\n",
       "      <td>0.0</td>\n",
       "      <td>0.250247</td>\n",
       "      <td>0.0</td>\n",
       "      <td>22.865139</td>\n",
       "      <td>27.470355</td>\n",
       "      <td>33.341134</td>\n",
       "      <td>22.499319</td>\n",
       "      <td>23.762494</td>\n",
       "      <td>22.8766</td>\n",
       "      <td>0.0</td>\n",
       "      <td>0.0</td>\n",
       "      <td>0.0</td>\n",
       "      <td>0.0</td>\n",
       "      <td>0.0</td>\n",
       "      <td>0.0</td>\n",
       "      <td>0.0</td>\n",
       "      <td>0.0</td>\n",
       "    </tr>\n",
       "  </tbody>\n",
       "</table>\n",
       "</div>"
      ],
      "text/plain": [
       "   address  BusinessAcceptsCreditCards  BusinessParking  \\\n",
       "0      0.0                   41.623168        44.976671   \n",
       "\n",
       "   RestaurantsPriceRange2  business_id  categories  city     Friday  \\\n",
       "0               46.852092          0.0    0.250247   0.0  22.865139   \n",
       "\n",
       "      Monday   Saturday   Thursday    Tuesday  Wednesday  is_open  latitude  \\\n",
       "0  27.470355  33.341134  22.499319  23.762494    22.8766      0.0       0.0   \n",
       "\n",
       "   longitude  name  postal_code  review_count  stars  state  \n",
       "0        0.0   0.0          0.0           0.0    0.0    0.0  "
      ]
     },
     "execution_count": 24,
     "metadata": {},
     "output_type": "execute_result"
    }
   ],
   "source": [
    "# Filter null percentages dataframe by set percentage. Here we default by 50%, as we want to try our first pass \n",
    "# of training with relatively stable columns.\n",
    "\n",
    "percentage_to_filter_by = 50\n",
    "\n",
    "null_filtered_pd = null_percentage_pd[null_percentage_pd < percentage_to_filter_by]\n",
    "null_filtered_na = null_filtered_pd.dropna(axis=1, how='all')\n",
    "null_filtered_na"
   ]
  },
  {
   "cell_type": "code",
   "execution_count": 25,
   "metadata": {},
   "outputs": [
    {
     "data": {
      "text/html": [
       "<div>\n",
       "<style scoped>\n",
       "    .dataframe tbody tr th:only-of-type {\n",
       "        vertical-align: middle;\n",
       "    }\n",
       "\n",
       "    .dataframe tbody tr th {\n",
       "        vertical-align: top;\n",
       "    }\n",
       "\n",
       "    .dataframe thead th {\n",
       "        text-align: right;\n",
       "    }\n",
       "</style>\n",
       "<table border=\"1\" class=\"dataframe\">\n",
       "  <thead>\n",
       "    <tr style=\"text-align: right;\">\n",
       "      <th></th>\n",
       "      <th>address</th>\n",
       "      <th>BusinessAcceptsCreditCards</th>\n",
       "      <th>BusinessParking</th>\n",
       "      <th>RestaurantsPriceRange2</th>\n",
       "      <th>business_id</th>\n",
       "      <th>categories</th>\n",
       "      <th>city</th>\n",
       "      <th>is_open</th>\n",
       "      <th>latitude</th>\n",
       "      <th>longitude</th>\n",
       "      <th>name</th>\n",
       "      <th>postal_code</th>\n",
       "      <th>review_count</th>\n",
       "      <th>stars</th>\n",
       "      <th>state</th>\n",
       "    </tr>\n",
       "  </thead>\n",
       "  <tbody>\n",
       "    <tr>\n",
       "      <th>0</th>\n",
       "      <td>0.0</td>\n",
       "      <td>41.623168</td>\n",
       "      <td>44.976671</td>\n",
       "      <td>46.852092</td>\n",
       "      <td>0.0</td>\n",
       "      <td>0.250247</td>\n",
       "      <td>0.0</td>\n",
       "      <td>0.0</td>\n",
       "      <td>0.0</td>\n",
       "      <td>0.0</td>\n",
       "      <td>0.0</td>\n",
       "      <td>0.0</td>\n",
       "      <td>0.0</td>\n",
       "      <td>0.0</td>\n",
       "      <td>0.0</td>\n",
       "    </tr>\n",
       "  </tbody>\n",
       "</table>\n",
       "</div>"
      ],
      "text/plain": [
       "   address  BusinessAcceptsCreditCards  BusinessParking  \\\n",
       "0      0.0                   41.623168        44.976671   \n",
       "\n",
       "   RestaurantsPriceRange2  business_id  categories  city  is_open  latitude  \\\n",
       "0               46.852092          0.0    0.250247   0.0      0.0       0.0   \n",
       "\n",
       "   longitude  name  postal_code  review_count  stars  state  \n",
       "0        0.0   0.0          0.0           0.0    0.0    0.0  "
      ]
     },
     "execution_count": 25,
     "metadata": {},
     "output_type": "execute_result"
    }
   ],
   "source": [
    "#Filter out weekday opening time columns, as they are not going to be very useful for model recommendations.\n",
    "\n",
    "final_null_pd = null_filtered_na.drop([\"Monday\", \"Tuesday\", \"Wednesday\", \"Thursday\", \"Friday\", \"Saturday\"], axis=1)\n",
    "final_null_pd"
   ]
  },
  {
   "cell_type": "code",
   "execution_count": 26,
   "metadata": {},
   "outputs": [
    {
     "data": {
      "text/plain": [
       "['address',\n",
       " 'BusinessAcceptsCreditCards',\n",
       " 'BusinessParking',\n",
       " 'RestaurantsPriceRange2',\n",
       " 'business_id',\n",
       " 'categories',\n",
       " 'city',\n",
       " 'is_open',\n",
       " 'latitude',\n",
       " 'longitude',\n",
       " 'name',\n",
       " 'postal_code',\n",
       " 'review_count',\n",
       " 'stars',\n",
       " 'state']"
      ]
     },
     "execution_count": 26,
     "metadata": {},
     "output_type": "execute_result"
    }
   ],
   "source": [
    "columns_to_keep = final_null_pd.columns.tolist()\n",
    "columns_to_keep"
   ]
  },
  {
   "cell_type": "code",
   "execution_count": 27,
   "metadata": {},
   "outputs": [
    {
     "name": "stdout",
     "output_type": "stream",
     "text": [
      "+-------------------------+--------------------------+-----------------------------------------------------------------------------------+----------------------+----------------------+--------------------------------------------------------------------------+---------------+-------+----------+------------+------------------------+-----------+------------+-----+-----+\n",
      "|address                  |BusinessAcceptsCreditCards|BusinessParking                                                                    |RestaurantsPriceRange2|business_id           |categories                                                                |city           |is_open|latitude  |longitude   |name                    |postal_code|review_count|stars|state|\n",
      "+-------------------------+--------------------------+-----------------------------------------------------------------------------------+----------------------+----------------------+--------------------------------------------------------------------------+---------------+-------+----------+------------+------------------------+-----------+------------+-----+-----+\n",
      "|10913 Bailey Rd          |True                      |{'garage': False, 'street': False, 'validated': False, 'lot': True, 'valet': False}|3                     |f9NumwFMBDn751xgFiRbNA|Active Life, Gun/Rifle Ranges, Guns & Ammo, Shopping                      |Cornelius      |1      |35.4627242|-80.8526119 |The Range At Lake Norman|28031      |36          |3.5  |NC   |\n",
      "|8880 E Via Linda, Ste 107|null                      |null                                                                               |null                  |Yzvjg0SayhoZgCljUJRF9Q|Health & Medical, Fitness & Instruction, Yoga, Active Life, Pilates       |Scottsdale     |1      |33.5694041|-111.8902637|Carlos Santo, NMD       |85258      |4           |5.0  |AZ   |\n",
      "|3554 Rue Notre-Dame O    |null                      |null                                                                               |null                  |XNoUzKckATkOD1hP6vghZg|Pets, Pet Services, Pet Groomers                                          |Montreal       |1      |45.479984 |-73.58007   |Felinus                 |H4C 1P4    |5           |5.0  |QC   |\n",
      "|1015 Sharp Cir           |True                      |{'garage': False, 'street': False, 'validated': False, 'lot': True, 'valet': False}|4                     |6OAZjbxqM5ol29BuHsil3w|Hardware Stores, Home Services, Building Supplies, Home & Garden, Shopping|North Las Vegas|0      |36.2197281|-115.1277255|Nevada House of Hose    |89030      |3           |2.5  |NV   |\n",
      "|4827 E Downing Cir       |True                      |null                                                                               |null                  |51M2Kk903DFYI6gnB5I6SQ|Home Services, Plumbing, Electricians, Handyman, Contractors              |Mesa           |1      |33.4280652|-111.7266485|USE MY GUY SERVICES LLC |85205      |26          |4.5  |AZ   |\n",
      "+-------------------------+--------------------------+-----------------------------------------------------------------------------------+----------------------+----------------------+--------------------------------------------------------------------------+---------------+-------+----------+------------+------------------------+-----------+------------+-----+-----+\n",
      "only showing top 5 rows\n",
      "\n"
     ]
    }
   ],
   "source": [
    "filtered_business_df = transformed_business_df.select(*columns_to_keep)\n",
    "filtered_business_df.show(5, False)"
   ]
  },
  {
   "cell_type": "code",
   "execution_count": 28,
   "metadata": {},
   "outputs": [
    {
     "data": {
      "application/vnd.jupyter.widget-view+json": {
       "model_id": "d72a5a354a3f4983a4a5b9de66f9d43b",
       "version_major": 2,
       "version_minor": 0
      },
      "text/plain": [
       "Dropdown(options=('address', 'BusinessAcceptsCreditCards', 'BusinessParking', 'RestaurantsPriceRange2', 'busin…"
      ]
     },
     "metadata": {},
     "output_type": "display_data"
    }
   ],
   "source": [
    "# Create a widget for mapping the value counts for individual columns\n",
    "dropdown_columns = widgets.Dropdown(options = filtered_business_df.columns)\n",
    "\n",
    "output_column = widgets.Output()\n",
    "\n",
    "def dropdown_columns_event_handler(change):\n",
    "    output_column.clear_output()\n",
    "    \n",
    "    filtered_business_df.groupBy(change.new).count().sort(col(\"count\").desc()).show(50, False)\n",
    "\n",
    "dropdown_columns.observe(dropdown_columns_event_handler, names='value')\n",
    "display(dropdown_columns)"
   ]
  },
  {
   "cell_type": "markdown",
   "metadata": {},
   "source": [
    "### Data Visualization Exploration"
   ]
  },
  {
   "cell_type": "code",
   "execution_count": 29,
   "metadata": {},
   "outputs": [
    {
     "name": "stdout",
     "output_type": "stream",
     "text": [
      "+-----+-----+\n",
      "|stars|count|\n",
      "+-----+-----+\n",
      "|4.0  |39199|\n",
      "|3.5  |38079|\n",
      "|4.5  |29940|\n",
      "|3.0  |28634|\n",
      "|5.0  |27080|\n",
      "|2.5  |21435|\n",
      "|2.0  |13124|\n",
      "|1.5  |6004 |\n",
      "|1.0  |5898 |\n",
      "+-----+-----+\n",
      "\n"
     ]
    }
   ],
   "source": [
    "stars_count_df = filtered_business_df.groupBy(col(\"stars\")).count().sort(col(\"count\").desc())\n",
    "stars_count_df.show(10, False)"
   ]
  },
  {
   "cell_type": "code",
   "execution_count": 30,
   "metadata": {},
   "outputs": [
    {
     "data": {
      "text/html": [
       "<div>\n",
       "<style scoped>\n",
       "    .dataframe tbody tr th:only-of-type {\n",
       "        vertical-align: middle;\n",
       "    }\n",
       "\n",
       "    .dataframe tbody tr th {\n",
       "        vertical-align: top;\n",
       "    }\n",
       "\n",
       "    .dataframe thead th {\n",
       "        text-align: right;\n",
       "    }\n",
       "</style>\n",
       "<table border=\"1\" class=\"dataframe\">\n",
       "  <thead>\n",
       "    <tr style=\"text-align: right;\">\n",
       "      <th></th>\n",
       "      <th>stars</th>\n",
       "      <th>count</th>\n",
       "    </tr>\n",
       "  </thead>\n",
       "  <tbody>\n",
       "    <tr>\n",
       "      <th>0</th>\n",
       "      <td>4.0</td>\n",
       "      <td>39199</td>\n",
       "    </tr>\n",
       "    <tr>\n",
       "      <th>1</th>\n",
       "      <td>3.5</td>\n",
       "      <td>38079</td>\n",
       "    </tr>\n",
       "    <tr>\n",
       "      <th>2</th>\n",
       "      <td>4.5</td>\n",
       "      <td>29940</td>\n",
       "    </tr>\n",
       "    <tr>\n",
       "      <th>3</th>\n",
       "      <td>3.0</td>\n",
       "      <td>28634</td>\n",
       "    </tr>\n",
       "    <tr>\n",
       "      <th>4</th>\n",
       "      <td>5.0</td>\n",
       "      <td>27080</td>\n",
       "    </tr>\n",
       "    <tr>\n",
       "      <th>5</th>\n",
       "      <td>2.5</td>\n",
       "      <td>21435</td>\n",
       "    </tr>\n",
       "    <tr>\n",
       "      <th>6</th>\n",
       "      <td>2.0</td>\n",
       "      <td>13124</td>\n",
       "    </tr>\n",
       "    <tr>\n",
       "      <th>7</th>\n",
       "      <td>1.5</td>\n",
       "      <td>6004</td>\n",
       "    </tr>\n",
       "    <tr>\n",
       "      <th>8</th>\n",
       "      <td>1.0</td>\n",
       "      <td>5898</td>\n",
       "    </tr>\n",
       "  </tbody>\n",
       "</table>\n",
       "</div>"
      ],
      "text/plain": [
       "   stars  count\n",
       "0    4.0  39199\n",
       "1    3.5  38079\n",
       "2    4.5  29940\n",
       "3    3.0  28634\n",
       "4    5.0  27080\n",
       "5    2.5  21435\n",
       "6    2.0  13124\n",
       "7    1.5   6004\n",
       "8    1.0   5898"
      ]
     },
     "execution_count": 30,
     "metadata": {},
     "output_type": "execute_result"
    }
   ],
   "source": [
    "stars_pd = stars_count_df.toPandas()\n",
    "stars_pd.head(10)"
   ]
  },
  {
   "cell_type": "markdown",
   "metadata": {},
   "source": [
    "#### Star reviews on business analysis\n",
    "\n",
    "In this graph, we can see that most of the stars skew from 3 to 5, and 1 to 2.5 stars are less common.\n",
    "\n",
    "We can see that most places don't dip below 2.5 stars and that reviews skew more positive than negative.\n",
    "\n",
    "When recommending a business we will need to keep that in mind."
   ]
  },
  {
   "cell_type": "code",
   "execution_count": 31,
   "metadata": {},
   "outputs": [
    {
     "data": {
      "image/png": "[encoded data removed]",
      "text/plain": [
       "<Figure size 360x360 with 1 Axes>"
      ]
     },
     "metadata": {
      "needs_background": "light"
     },
     "output_type": "display_data"
    }
   ],
   "source": [
    "sns.catplot(x=\"stars\", y=\"count\", kind=\"bar\", data=stars_pd)\n",
    "\n",
    "plt.show()"
   ]
  },
  {
   "cell_type": "markdown",
   "metadata": {},
   "source": [
    "#### Find Business by ID\n",
    "\n",
    "Utility section for returning a row based on business ID."
   ]
  },
  {
   "cell_type": "code",
   "execution_count": 53,
   "metadata": {
    "scrolled": true
   },
   "outputs": [
    {
     "name": "stdout",
     "output_type": "stream",
     "text": [
      "+----------------------+--------------------------+---------------+----------------------+----------------------+-------------------------+-------+-------+------------+---------------+----------------------------------------+-----------+------------+-----+-----+\n",
      "|address               |BusinessAcceptsCreditCards|BusinessParking|RestaurantsPriceRange2|business_id           |categories               |city   |is_open|latitude    |longitude      |name                                    |postal_code|review_count|stars|state|\n",
      "+----------------------+--------------------------+---------------+----------------------+----------------------+-------------------------+-------+-------+------------+---------------+----------------------------------------+-----------+------------+-----+-----+\n",
      "|3400 E Sky Harbor Blvd|null                      |null           |null                  |JmI9nslLD7KZqRr__Bg6NQ|Airports, Hotels & Travel|Phoenix|1      |33.435471591|-112.0088027608|Phoenix Sky Harbor International Airport|85034      |2810        |3.5  |AZ   |\n",
      "+----------------------+--------------------------+---------------+----------------------+----------------------+-------------------------+-------+-------+------------+---------------+----------------------------------------+-----------+------------+-----+-----+\n",
      "\n"
     ]
    }
   ],
   "source": [
    "business_id = 'JmI9nslLD7KZqRr__Bg6NQ'\n",
    "\n",
    "result = filtered_business_df.where(filtered_business_df.business_id == business_id)\n",
    "result.show(5, False)"
   ]
  },
  {
   "cell_type": "code",
   "execution_count": null,
   "metadata": {},
   "outputs": [],
   "source": []
  }
 ],
 "metadata": {
  "kernelspec": {
   "display_name": "Python 3",
   "language": "python",
   "name": "python3"
  },
  "language_info": {
   "codemirror_mode": {
    "name": "ipython",
    "version": 3
   },
   "file_extension": ".py",
   "mimetype": "text/x-python",
   "name": "python",
   "nbconvert_exporter": "python",
   "pygments_lexer": "ipython3",
   "version": "3.8.5"
  }
 },
 "nbformat": 4,
 "nbformat_minor": 4
}
